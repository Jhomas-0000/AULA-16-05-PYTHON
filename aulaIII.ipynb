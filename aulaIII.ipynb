{
 "cells": [
  {
   "attachments": {},
   "cell_type": "markdown",
   "metadata": {},
   "source": [
    "AULA 16-05-2023 // INTEGRANTES -> Amanda Brandão, Vitoria Oliveira, Camila Silva, Alessandro Moura, João Marcos, Wallysson Cavalcante"
   ]
  },
  {
   "attachments": {},
   "cell_type": "markdown",
   "metadata": {},
   "source": [
    "DESAFIO 01 - CÁLCULO DE MEDIA "
   ]
  },
  {
   "cell_type": "code",
   "execution_count": 7,
   "metadata": {},
   "outputs": [
    {
     "name": "stdout",
     "output_type": "stream",
     "text": [
      "A Sua media final é: 7.0\n"
     ]
    }
   ],
   "source": [
    "nota_01 = float(input(\"Qual o valor da 1º Nota?:\"))\n",
    "nota_02 = float(input(\"Qual o valor da 2º Nota?:\"))\n",
    "nota_03 = float(input(\"Qual o valor da 3º Nota?:\"))\n",
    "media = (nota_01 + nota_02 + nota_03) / 3\n",
    "print(\"A Sua media final é:\",round(media,2))"
   ]
  },
  {
   "attachments": {},
   "cell_type": "markdown",
   "metadata": {},
   "source": [
    " DESAFIO 02 - CÁLCULO DE MEDIDA DE TEMPERATURA -> CELSIUS -> FAHRENHEIT"
   ]
  },
  {
   "cell_type": "code",
   "execution_count": 3,
   "metadata": {},
   "outputs": [
    {
     "name": "stdout",
     "output_type": "stream",
     "text": [
      "fahrenheit = 98.6\n"
     ]
    }
   ],
   "source": [
    "grau_celsius = float(input(\"Cº Graus Celsius:\"))\n",
    "fahrenheit = (grau_celsius * 1.8) + 32\n",
    "print(\"fahrenheit =\", round(fahrenheit,2))"
   ]
  },
  {
   "attachments": {},
   "cell_type": "markdown",
   "metadata": {},
   "source": [
    "DESAFIO 03 - CALCULAR O PERÍMETRO E A ÁREA DE UM RETÂNGULO."
   ]
  },
  {
   "cell_type": "code",
   "execution_count": 5,
   "metadata": {},
   "outputs": [
    {
     "name": "stdout",
     "output_type": "stream",
     "text": [
      "Perimetro = 24 cm\n",
      "Area do Retangulo = 35 cm^2\n"
     ]
    }
   ],
   "source": [
    "base_b = int(input(\"Qual o valor da base(b)\"))\n",
    "altura_h = int(input(\"Qual o valor da base(h)\"))\n",
    "perimetro = 2*(base_b + altura_h)\n",
    "print(\"Perimetro =\", perimetro, \"cm\")\n",
    "area_do_retangulo = (base_b * altura_h)\n",
    "print(\"Area do Retangulo =\", area_do_retangulo, \"cm^2\")\n"
   ]
  }
 ],
 "metadata": {
  "kernelspec": {
   "display_name": "Python 3",
   "language": "python",
   "name": "python3"
  },
  "language_info": {
   "codemirror_mode": {
    "name": "ipython",
    "version": 3
   },
   "file_extension": ".py",
   "mimetype": "text/x-python",
   "name": "python",
   "nbconvert_exporter": "python",
   "pygments_lexer": "ipython3",
   "version": "3.11.3"
  },
  "orig_nbformat": 4
 },
 "nbformat": 4,
 "nbformat_minor": 2
}
